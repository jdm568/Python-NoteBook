{
 "cells": [
  {
   "cell_type": "code",
   "execution_count": null,
   "metadata": {
    "collapsed": true
   },
   "outputs": [],
   "source": [
    "# This is the information and visualization of seoul metro data.\n",
    "# We focus on the number of people getting out of train."
   ]
  },
  {
   "cell_type": "code",
   "execution_count": 2,
   "metadata": {
    "collapsed": false,
    "scrolled": false
   },
   "outputs": [
    {
     "name": "stdout",
     "output_type": "stream",
     "text": [
      "['13 ', '296 ', '859 ', '3888 ', '3977 ', '2788 ', '1296 ', '1985 ', '1560 ', '1276 ', '886 ', '797 ', '954 ', '1584 ', '822 ', '362 ', '256 ', '224 ', '137 ', '58 ', '2 ', '13 ', '261 ', '875 ', '4029 ', '3023 ', '3327 ', '1424 ', '2056 ', '1683 ', '1273 ', '1069 ', '762 ', '967 ', '1290 ', '843 ', '317 ', '261 ', '232 ', '134 ', '65 ', '3 ', '17 ', '292 ', '901 ', '3650 ', '3314 ', '3043 ', '1346 ', '1975 ', '1303 ', '1246 ', '834 ', '785 ', '935 ', '1418 ', '740 ', '335 ', '278 ', '240 ', '170 ', '63 ', '2 ', '21 ', '279 ', '809 ', '3397 ', '2514 ', '2261 ', '765 ', '1212 ', '1167 ', '872 ', '660 ', '543 ', '530 ', '770 ', '498 ', '278 ', '256 ', '256 ', '209 ', '113 ', '6 ', '16 ', '169 ', '210 ', '881 ', '1335 ', '1056 ', '659 ', '745 ', '939 ', '788 ', '745 ', '569 ', '694 ', '445 ', '403 ', '239 ', '218 ', '251 ', '207 ', '20 ', '0 ', '5 ', '82 ', '77 ', '104 ', '184 ', '182 ', '232 ', '288 ', '487 ', '335 ', '345 ', '279 ', '312 ', '316 ', '248 ', '205 ', '214 ', '226 ', '138 ', '1 ', '0 ', '17 ', '307 ', '989 ', '3818 ', '3450 ', '2874 ', '879 ', '1419 ', '1110 ', '911 ', '558 ', '495 ', '705 ', '1016 ', '441 ', '237 ', '204 ', '212 ', '133 ', '65 ', '2 ', '15 ', '305 ', '898 ', '3664 ', '3958 ', '2782 ', '801 ', '1470 ', '1164 ', '867 ', '550 ', '544 ', '671 ', '1061 ', '569 ', '291 ', '216 ', '233 ', '142 ', '76 ', '2 ', '22 ', '301 ', '847 ', '3537 ', '3162 ', '3094 ', '828 ', '1525 ', '1203 ', '945 ', '591 ', '470 ', '699 ', '929 ', '656 ', '300 ', '234 ', '243 ', '169 ', '70 ', '6 ', '15 ', '315 ', '867 ', '3712 ', '3551 ', '2814 ', '922 ', '1398 ', '1180 ', '910 ', '565 ', '518 ', '585 ', '1049 ', '505 ', '296 ', '250 ', '229 ', '144 ', '78 ', '1 ', '15 ', '294 ', '886 ', '3469 ', '2677 ', '2347 ', '871 ', '1303 ', '1053 ', '943 ', '700 ', '502 ', '620 ', '782 ', '521 ', '256 ', '238 ', '261 ', '215 ', '114 ', '2 ', '16 ', '170 ', '198 ', '1068 ', '1049 ', '856 ', '868 ', '767 ', '881 ', '639 ', '547 ', '408 ', '520 ', '360 ', '330 ', '282 ', '312 ', '304 ', '250 ', '53 ', '0 ', '18 ', '82 ', '125 ', '422 ', '349 ', '247 ', '276 ', '328 ', '554 ', '415 ', '398 ', '364 ', '343 ', '331 ', '249 ', '214 ', '190 ', '193 ', '148 ', '0 ', '0 ', '17 ', '309 ', '904 ', '3880 ', '3347 ', '2789 ', '848 ', '1428 ', '1178 ', '915 ', '522 ', '468 ', '648 ', '1014 ', '520 ', '251 ', '246 ', '220 ', '128 ', '66 ', '0 ', '20 ', '270 ', '906 ', '3924 ', '3878 ', '2682 ', '802 ', '1394 ', '1200 ', '984 ', '552 ', '546 ', '682 ', '1091 ', '583 ', '271 ', '258 ', '242 ', '141 ', '78 ', '1 ', '14 ', '276 ', '837 ', '3881 ', '3051 ', '2879 ', '926 ', '1552 ', '1235 ', '1012 ', '634 ', '421 ', '675 ', '958 ', '627 ', '259 ', '230 ', '221 ', '167 ', '69 ', '0 ', '22 ', '327 ', '873 ', '3150 ', '3336 ', '3000 ', '854 ', '1431 ', '1149 ', '943 ', '563 ', '589 ', '722 ', '987 ', '633 ', '305 ', '260 ', '230 ', '150 ', '84 ', '0 ', '24 ', '270 ', '794 ', '3291 ', '2592 ', '2317 ', '885 ', '1212 ', '1173 ', '866 ', '691 ', '479 ', '635 ', '740 ', '573 ', '285 ', '255 ', '259 ', '203 ', '109 ', '4 ', '16 ', '199 ', '482 ', '3037 ', '926 ', '1156 ', '2801 ', '3022 ', '1032 ', '706 ', '661 ', '453 ', '543 ', '363 ', '274 ', '286 ', '297 ', '255 ', '172 ', '44 ', '0 ', '15 ', '163 ', '681 ', '4769 ', '519 ', '783 ', '2388 ', '3234 ', '1402 ', '2387 ', '3872 ', '1122 ', '479 ', '566 ', '263 ', '231 ', '210 ', '209 ', '142 ', '19 ', '0 ', '23 ', '314 ', '853 ', '3950 ', '3260 ', '2855 ', '910 ', '1515 ', '1151 ', '904 ', '560 ', '432 ', '634 ', '951 ', '515 ', '267 ', '200 ', '195 ', '131 ', '87 ', '0 ', '13 ', '283 ', '927 ', '3788 ', '3921 ', '2782 ', '855 ', '1360 ', '1247 ', '883 ', '595 ', '586 ', '643 ', '1027 ', '591 ', '299 ', '228 ', '217 ', '145 ', '53 ', '0 ', '15 ', '267 ', '775 ', '3480 ', '3178 ', '3207 ', '787 ', '1511 ', '1230 ', '934 ', '619 ', '464 ', '689 ', '877 ', '608 ', '267 ', '245 ', '221 ', '138 ', '55 ', '2 ', '27 ', '266 ', '788 ', '3678 ', '3175 ', '2864 ', '1116 ', '1441 ', '1057 ', '1013 ', '641 ', '480 ', '640 ', '979 ', '610 ', '269 ', '229 ', '223 ', '159 ', '78 ', '0 ', '18 ', '254 ', '764 ', '3211 ', '2624 ', '2368 ', '803 ', '1283 ', '1168 ', '905 ', '664 ', '573 ', '632 ', '841 ', '516 ', '276 ', '242 ', '256 ', '202 ', '101 ', '6 ', '10 ', '153 ', '237 ', '1051 ', '943 ', '803 ', '690 ', '922 ', '1101 ', '708 ', '604 ', '506 ', '517 ', '414 ', '267 ', '225 ', '327 ', '287 ', '233 ', '54 ', '3 ', '11 ', '89 ', '92 ', '147 ', '294 ', '271 ', '561 ', '534 ', '556 ', '534 ', '471 ', '376 ', '327 ', '312 ', '246 ', '203 ', '205 ', '206 ', '166 ', '0 ', '0 ', '20 ', '307 ', '833 ', '3885 ', '3274 ', '2788 ', '972 ', '1518 ', '1168 ', '861 ', '585 ', '476 ', '700 ', '1025 ', '554 ', '268 ', '222 ', '221 ', '124 ', '60 ', '0 ', '16 ', '272 ', '711 ', '3720 ', '3707 ', '2797 ', '915 ', '1404 ', '1215 ', '969 ', '520 ', '567 ', '729 ', '1041 ', '599 ', '279 ', '210 ', '222 ', '139 ', '67 ', '0 ', '13 ', '269 ', '758 ', '3674 ', '3002 ', '2950 ', '1050 ', '1482 ', '1111 ', '928 ', '570 ', '460 ', '631 ', '829 ', '611 ', '302 ', '219 ', '227 ', '147 ', '86 ', '2 ']\n"
     ]
    },
    {
     "data": {
      "text/plain": [
       "<function TextIOWrapper.close>"
      ]
     },
     "execution_count": 2,
     "metadata": {},
     "output_type": "execute_result"
    }
   ],
   "source": [
    "import csv\n",
    "import numpy as np\n",
    "import matplotlib.pyplot as plt\n",
    "from mpl_toolkits.mplot3d import Axes3D\n",
    "\n",
    "fig = plt.figure()\n",
    "ax = fig.add_subplot(111, projection='3d')\n",
    "\n",
    "f = open('./seoulmetro.csv', 'r')\n",
    "csvReader = csv.reader(f)\n",
    "\n",
    "# Create a lambda function to generate the random values in the given range\n",
    "# f = lambda minval, maxval, n: minval + (maxval - minval) * np.random.rand(n)\n",
    "\n",
    "# Generate the values\n",
    "x_vals = [] #date\n",
    "y_vals = [] #time\n",
    "z_vals = [] #nunber\n",
    "\n",
    "for row in csvReader:\n",
    "    if(row[0].find('한양대') != -1):\n",
    "        if (row[2].find('하차') != -1):\n",
    "            for i in range(21): \n",
    "                x_vals.append(i)\n",
    "                y_vals.append((i + 5))\n",
    "                z_vals.append(row[i + 3].replace(\",\",\"\"))\n",
    "\n",
    "# print(str(x_vals) + \"  \" + str(y_vals) + \"   \" + str(z_vals))\n",
    "print(z_vals)\n",
    "# Plot the values\n",
    "# ax.scatter(x_vals, y_vals, z_vals, c='k', marker='o')\n",
    "# ax.set_xlabel('Date')\n",
    "# ax.set_ylabel('Time')\n",
    "ax.set_zlabel('Number')\n",
    "\n",
    "# plt.show()\n",
    "# print (type(row[0])\n",
    "f.close\n",
    "# def separator(a):\n",
    "       \n"
   ]
  },
  {
   "cell_type": "code",
   "execution_count": 195,
   "metadata": {
    "collapsed": false
   },
   "outputs": [
    {
     "name": "stdout",
     "output_type": "stream",
     "text": [
      "The most busiest station is 홍대입구\n"
     ]
    },
    {
     "data": {
      "image/png": "[encoded data removed]",
      "text/plain": [
       "<matplotlib.figure.Figure at 0x2292dd9d630>"
      ]
     },
     "metadata": {},
     "output_type": "display_data"
    },
    {
     "data": {
      "text/plain": [
       "<matplotlib.figure.Figure at 0x2292f42deb8>"
      ]
     },
     "metadata": {},
     "output_type": "display_data"
    }
   ],
   "source": [
    "import pandas\n",
    "import matplotlib.pyplot as plt\n",
    "import numpy as np\n",
    "from matplotlib import font_manager, rc\n",
    "font_name = font_manager.FontProperties(fname=\"c:/Windows/Fonts/malgun.ttf\").get_name()\n",
    "rc('font', family=font_name)\n",
    "\n",
    "\n",
    "\n",
    "f = open('./20150505MetroInfo.csv', 'r')\n",
    "csvReader = csv.reader(f)\n",
    "station = []\n",
    "total = []\n",
    "for row in csvReader:\n",
    "    if(row[4].find('하차') != -1):\n",
    "        station.append(row[3])\n",
    "        total.append(int(row[29]))\n",
    "        \n",
    "i = 0;\n",
    "max_index = 0;\n",
    "max_ = total[0];\n",
    "for i in range(len(total)):\n",
    "    if (max_ < total[i]):\n",
    "        max_ = total[i]\n",
    "        max_index = i\n",
    "        \n",
    "print(\"The most busiest station is \" + station[max_index])\n",
    "\n",
    "\n",
    "i = 0\n",
    "while(i != (len(total) - 1)):\n",
    "    if (total[i] > total[i + 1]):\n",
    "        tmp = total[i]\n",
    "        total[i] = total[i + 1]\n",
    "        total[i + 1] = tmp\n",
    "        tmp = station[i]\n",
    "        station[i] = station[i + 1]\n",
    "        station[i + 1] = tmp\n",
    "        i -= 2\n",
    "        if(i == -2):\n",
    "            i = -1\n",
    "    i += 1\n",
    "station = station[30:]\n",
    "total = total[30:]\n",
    "df = pandas.DataFrame(dict(graph = station,\n",
    "                           people = total)) \n",
    "\n",
    "ind = np.arange(len(df))\n",
    "width = 0.4\n",
    "fig, ax = plt.subplots()\n",
    "fig = plt.figure(figsize=(20,20))\n",
    "ax.barh(ind, df.people, width, align='center', color='blue', label='People')\n",
    "ax.set(yticks=ind + width, yticklabels=df.graph, ylim=[2*width - 1, len(df)])\n",
    "ax.legend()\n",
    "\n",
    "f.close\n",
    "plt.show()"
   ]
  },
  {
   "cell_type": "code",
   "execution_count": 156,
   "metadata": {
    "collapsed": false
   },
   "outputs": [
    {
     "data": {
      "image/png": "[encoded data removed]",
      "text/plain": [
       "<matplotlib.figure.Figure at 0x2292c5cba58>"
      ]
     },
     "metadata": {},
     "output_type": "display_data"
    }
   ],
   "source": [
    "import numpy as np\n",
    "import matplotlib.pyplot as plt\n",
    "import pandas\n",
    "import matplotlib.pyplot as plt\n",
    "import numpy as np\n",
    "from matplotlib import font_manager, rc\n",
    "font_name = font_manager.FontProperties(fname=\"c:/Windows/Fonts/malgun.ttf\").get_name()\n",
    "rc('font', family=font_name)\n",
    "\n",
    "\n",
    "\n",
    "f = open('./20150505MetroInfo.csv', 'r')\n",
    "csvReader = csv.reader(f)\n",
    "people = []\n",
    "for row in csvReader:\n",
    "    if(row[3].find('홍대입구') != -1):\n",
    "        if(row[4].find('하차') != -1):\n",
    "            row = row[5:29]\n",
    "            people = row\n",
    "            \n",
    "timeset = ('00~01', '01~02', '02~03', '03~04', '04~05', '05~06',\n",
    "           '06~07', '07~08', '08~09', '09~10', '10~11', '11~12',\n",
    "           '12~13', '13~14', '14~15', '15~16', '16~17', '17~18',\n",
    "           '18~19', '19~20', '20~21', '21~22', '22~23', '23~24',\n",
    "          )\n",
    "i = 0\n",
    "for i in range(len(people)):\n",
    "    people[i] = int(people[i])    \n",
    "\n",
    "# Number of groups\n",
    "num_groups = len(people)\n",
    "\n",
    "# Create the figure\n",
    "fig, ax = plt.subplots()\n",
    "\n",
    "# Define the X axis\n",
    "indices = np.arange(num_groups)\n",
    "\n",
    "# Width and opacity of histogram bars\n",
    "bar_width = 0.4\n",
    "opacity = 0.6\n",
    "\n",
    "# Plot the values\n",
    "\n",
    "hist_people = plt.bar(indices , people, bar_width,\n",
    "        alpha=opacity, color='b', label='People')\n",
    "\n",
    "plt.xlabel('Time')\n",
    "plt.ylabel('# Of People Got Off')\n",
    "plt.title('# Of People By Time')\n",
    "plt.xticks(indices + bar_width, timeset)\n",
    "plt.ylim([0, 10000])\n",
    "plt.legend()\n",
    "plt.tight_layout()\n",
    "fig.autofmt_xdate()\n",
    "plt.show()\n"
   ]
  },
  {
   "cell_type": "code",
   "execution_count": 194,
   "metadata": {
    "collapsed": false
   },
   "outputs": [
    {
     "name": "stdout",
     "output_type": "stream",
     "text": [
      "mean is 3266.4166666666665\n",
      "standard deviation is 2950.666216837887\n",
      "Minimum : 0\n",
      "Median : 2101\n",
      "Max : 7106\n",
      "Q1 : 15~16\n",
      "Q3 : 21~22\n"
     ]
    }
   ],
   "source": [
    "import numpy as np\n",
    "import matplotlib.pyplot as plt\n",
    "import pandas\n",
    "import math\n",
    "from matplotlib import font_manager, rc\n",
    "font_name = font_manager.FontProperties(fname=\"c:/Windows/Fonts/malgun.ttf\").get_name()\n",
    "rc('font', family=font_name)\n",
    "\n",
    "\n",
    "\n",
    "f = open('./20150505MetroInfo.csv', 'r')\n",
    "csvReader = csv.reader(f)\n",
    "people = []\n",
    "for row in csvReader:\n",
    "    if(row[3].find('홍대입구') != -1):\n",
    "        if(row[4].find('하차') != -1):\n",
    "            row = row[5:29]\n",
    "            people = row\n",
    "            \n",
    "for i in range(len(people)):\n",
    "    people[i] = int(people[i])    \n",
    "    \n",
    "sum = 0\n",
    "for i in people:\n",
    "    sum += i\n",
    "mean = sum/24\n",
    "print (\"mean is \" + str(mean))\n",
    "\n",
    "s_sq = 0;\n",
    "for i in people:\n",
    "    s_sq += (i-mean)*(i-mean)\n",
    "\n",
    "\n",
    "s_sq = s_sq/(23)\n",
    "st_dvt = math.sqrt(s_sq)\n",
    "# mean standard deviatrion\n",
    "print (\"standard deviation is \" + str(st_dvt))\n",
    "\n",
    "i = 0\n",
    "while (i != (len(people) - 1)):\n",
    "    if (people[i] > people[i + 1]):\n",
    "        tmp = people[i]\n",
    "        people[i] = people[i + 1]\n",
    "        people[i + 1] = tmp\n",
    "        i -= 2\n",
    "        if(i == -2):\n",
    "            i = -1\n",
    "    i += 1\n",
    "\n",
    "print(\"Minimum : \" + str(people[0]))\n",
    "print(\"Median : \" + str(people[10]))\n",
    "print(\"Max : \" + str(people[19]))\n",
    "i = 0\n",
    "q1_sum = 0\n",
    "for i in range(len(people)):\n",
    "    q1_sum += people[i]\n",
    "    if(q1_sum > (sum/4)):\n",
    "        break\n",
    "q1 = i\n",
    "i = 0\n",
    "q2_sum = 0\n",
    "for i in range(len(people)):\n",
    "    q2_sum += people[len(people) - i -1]\n",
    "    if(q2_sum > (sum/4)):\n",
    "        break\n",
    "q3 = len(people) - i -1\n",
    "print(\"Q1 : \" + str(timeset[q1]))\n",
    "print(\"Q3 : \" + str(timeset[q3]))\n"
   ]
  }
 ],
 "metadata": {
  "anaconda-cloud": {},
  "kernelspec": {
   "display_name": "Python 3",
   "language": "python",
   "name": "python3"
  },
  "language_info": {
   "codemirror_mode": {
    "name": "ipython",
    "version": 3
   },
   "file_extension": ".py",
   "mimetype": "text/x-python",
   "name": "python",
   "nbconvert_exporter": "python",
   "pygments_lexer": "ipython3",
   "version": "3.6.0"
  }
 },
 "nbformat": 4,
 "nbformat_minor": 1
}
