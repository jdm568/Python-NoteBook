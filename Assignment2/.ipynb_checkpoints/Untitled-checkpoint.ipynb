{
 "cells": [
  {
   "cell_type": "code",
   "execution_count": 52,
   "metadata": {
    "collapsed": false
   },
   "outputs": [
    {
     "name": "stdout",
     "output_type": "stream",
     "text": [
      "Average bending is 49.03220000000001\n",
      "Variance is 202.28522975510197\n"
     ]
    }
   ],
   "source": [
    "import csv\n",
    "\n",
    "f = open(\"./douglas_data_50.csv\", \"r\")\n",
    "csvReader = csv.reader(f)\n",
    "elementNum = 0\n",
    "sumOfBendingValue = 0\n",
    "variance = 0\n",
    "for row in csvReader :\n",
    "    elementNum = elementNum + 1\n",
    "    if (elementNum < 3) :\n",
    "        continue\n",
    "    sumOfBendingValue = sumOfBendingValue + float(row[8])\n",
    "\n",
    "elementNum = elementNum - 2\n",
    "avgBending = sumOfBendingValue / elementNum\n",
    "f.close()\n",
    "\n",
    "f = open(\"./douglas_data_50.csv\", \"r\")\n",
    "csvReader = csv.reader(f)\n",
    "elementNum = 0\n",
    "variance = 0\n",
    "for row in csvReader :\n",
    "    elementNum = elementNum + 1\n",
    "    if (elementNum < 3) :\n",
    "        continue\n",
    "    variance = variance + ((float(row[8]) - avgBending) * (float(row[8]) - avgBending))\n",
    "    \n",
    "variance = variance / (elementNum - 3)\n",
    " #subtracting the description row\n",
    "\n",
    "print(\"Average bending is \" + str(avgBending))\n",
    "print(\"Variance is \" + str(variance))\n",
    "f.close()"
   ]
  },
  {
   "cell_type": "code",
   "execution_count": 54,
   "metadata": {
    "collapsed": false
   },
   "outputs": [
    {
     "name": "stdout",
     "output_type": "stream",
     "text": [
      "225.3751562500001\n",
      "339.4909625\n",
      "410.85121875\n",
      "645.1707749999999\n",
      "889.23328125\n",
      "1000.9053375000001\n",
      "1519.94764375\n",
      "1699.3066999999999\n",
      "1760.96845625\n",
      "1890.4159624999998\n",
      "2267.64946875\n",
      "2662.1683749999997\n",
      "3351.09963125\n",
      "3971.7322875\n",
      "4091.36119375\n",
      "4417.07345\n",
      "4506.801706249999\n",
      "4835.4079624999995\n",
      "5023.852218749999\n",
      "5711.733974999999\n",
      "Average bending is 49.3275\n",
      "Variance is 300.6175776315789\n"
     ]
    }
   ],
   "source": [
    "import csv \n",
    "f = open(\"./douglas_data_20.csv\")\n",
    "csvReader = csv.reader(f)\n",
    "elementNum = 0\n",
    "sumOfBendingValue = 0\n",
    "for row in csvReader :\n",
    "    elementNum = elementNum + 1\n",
    "    if (elementNum < 3) :\n",
    "        continue\n",
    "    sumOfBendingValue = sumOfBendingValue + float(row[8])\n",
    "f.close()\n",
    "avgBending = sumOfBendingValue/20\n",
    "\n",
    "f = open(\"./douglas_data_20.csv\", \"r\")\n",
    "csvReader = csv.reader(f)\n",
    "elementNum = 0\n",
    "variance = 0\n",
    "for row in csvReader :\n",
    "    elementNum = elementNum + 1\n",
    "    if (elementNum < 3) :\n",
    "        continue\n",
    "    variance = variance + ((float(row[8]) - avgBending) * (float(row[8]) - avgBending))\n",
    "#     print(variance)\n",
    "variance = variance / (19)\n",
    " #subtracting the description row\n",
    "\n",
    "print(\"Average bending is \" + str(avgBending))\n",
    "print(\"Variance is \" + str(variance))\n",
    "f.close()"
   ]
  },
  {
   "cell_type": "code",
   "execution_count": null,
   "metadata": {
    "collapsed": true
   },
   "outputs": [],
   "source": []
  },
  {
   "cell_type": "code",
   "execution_count": null,
   "metadata": {
    "collapsed": true
   },
   "outputs": [],
   "source": []
  }
 ],
 "metadata": {
  "kernelspec": {
   "display_name": "Python 3",
   "language": "python",
   "name": "python3"
  },
  "language_info": {
   "codemirror_mode": {
    "name": "ipython",
    "version": 3
   },
   "file_extension": ".py",
   "mimetype": "text/x-python",
   "name": "python",
   "nbconvert_exporter": "python",
   "pygments_lexer": "ipython3",
   "version": "3.6.0"
  }
 },
 "nbformat": 4,
 "nbformat_minor": 2
}
