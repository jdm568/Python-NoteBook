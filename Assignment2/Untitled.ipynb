{
 "cells": [
  {
   "cell_type": "code",
   "execution_count": 52,
   "metadata": {
    "collapsed": false
   },
   "outputs": [
    {
     "name": "stdout",
     "output_type": "stream",
     "text": [
      "Average bending is 49.03220000000001\n",
      "Variance is 202.28522975510197\n"
     ]
    }
   ],
   "source": [
    "import csv\n",
    "\n",
    "f = open(\"./douglas_data_50.csv\", \"r\")\n",
    "csvReader = csv.reader(f)\n",
    "elementNum = 0\n",
    "sumOfBendingValue = 0\n",
    "variance = 0\n",
    "for row in csvReader :\n",
    "    elementNum = elementNum + 1\n",
    "    if (elementNum < 3) :\n",
    "        continue\n",
    "    sumOfBendingValue = sumOfBendingValue + float(row[8])\n",
    "\n",
    "elementNum = elementNum - 2\n",
    "avgBending = sumOfBendingValue / elementNum\n",
    "f.close()\n",
    "\n",
    "f = open(\"./douglas_data_50.csv\", \"r\")\n",
    "csvReader = csv.reader(f)\n",
    "elementNum = 0\n",
    "variance = 0\n",
    "for row in csvReader :\n",
    "    elementNum = elementNum + 1\n",
    "    if (elementNum < 3) :\n",
    "        continue\n",
    "    variance = variance + ((float(row[8]) - avgBending) * (float(row[8]) - avgBending))\n",
    "    \n",
    "variance = variance / (elementNum - 3)\n",
    " #subtracting the description row\n",
    "\n",
    "print(\"Average bending is \" + str(avgBending))\n",
    "print(\"Variance is \" + str(variance))\n",
    "f.close()"
   ]
  },
  {
   "cell_type": "code",
   "execution_count": 55,
   "metadata": {
    "collapsed": false
   },
   "outputs": [
    {
     "name": "stdout",
     "output_type": "stream",
     "text": [
      "Average bending is 49.3275\n",
      "Variance is 300.6175776315789\n"
     ]
    }
   ],
   "source": [
    "import csv \n",
    "f = open(\"./douglas_data_20.csv\")\n",
    "csvReader = csv.reader(f)\n",
    "elementNum = 0\n",
    "sumOfBendingValue = 0\n",
    "for row in csvReader :\n",
    "    elementNum = elementNum + 1\n",
    "    if (elementNum < 3) :\n",
    "        continue\n",
    "    sumOfBendingValue = sumOfBendingValue + float(row[8])\n",
    "f.close()\n",
    "avgBending = sumOfBendingValue/20\n",
    "\n",
    "f = open(\"./douglas_data_20.csv\", \"r\")\n",
    "csvReader = csv.reader(f)\n",
    "elementNum = 0\n",
    "variance = 0\n",
    "for row in csvReader :\n",
    "    elementNum = elementNum + 1\n",
    "    if (elementNum < 3) :\n",
    "        continue\n",
    "    variance = variance + ((float(row[8]) - avgBending) * (float(row[8]) - avgBending))\n",
    "#     print(variance)\n",
    "variance = variance / (19)\n",
    " #subtracting the description row\n",
    "\n",
    "print(\"Average bending is \" + str(avgBending))\n",
    "print(\"Variance is \" + str(variance))\n",
    "f.close()"
   ]
  },
  {
   "cell_type": "code",
   "execution_count": null,
   "metadata": {
    "collapsed": true
   },
   "outputs": [],
   "source": []
  },
  {
   "cell_type": "code",
   "execution_count": null,
   "metadata": {
    "collapsed": true
   },
   "outputs": [],
   "source": []
  }
 ],
 "metadata": {
  "kernelspec": {
   "display_name": "Python 3",
   "language": "python",
   "name": "python3"
  },
  "language_info": {
   "codemirror_mode": {
    "name": "ipython",
    "version": 3
   },
   "file_extension": ".py",
   "mimetype": "text/x-python",
   "name": "python",
   "nbconvert_exporter": "python",
   "pygments_lexer": "ipython3",
   "version": "3.6.0"
  }
 },
 "nbformat": 4,
 "nbformat_minor": 2
}
