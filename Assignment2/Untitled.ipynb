{
 "cells": [
  {
   "cell_type": "code",
   "execution_count": 121,
   "metadata": {
    "collapsed": true
   },
   "outputs": [],
   "source": [
    "import numpy as np\n",
    "import matplotlib.pyplot as plt\n",
    "import numpy.random as rnd\n",
    "from pandas import read_csv\n",
    "%matplotlib inline\n",
    "\n",
    "def getAvg(arr) :\n",
    "    totalN = len(arr)\n",
    "    sumOfElement = 0\n",
    "    for element in arr :\n",
    "        sumOfElement = sumOfElement + float(element)\n",
    "    return sumOfElement/totalN\n",
    "\n",
    "def getVar(arr, avg) :\n",
    "    totalN = len(arr)\n",
    "    sumOfSqure = 0\n",
    "    for element in arr :\n",
    "        sumOfSqure = sumOfSqure + (float(element) - avg) * (float(element) - avg)\n",
    "    return sumOfSqure/(totalN - 1)\n",
    "\n",
    "def getMin(arr) :\n",
    "    minEle = arr[0]\n",
    "    for element in arr :\n",
    "        if (minEle > element) :\n",
    "            minEle = element\n",
    "    return minEle\n",
    "\n",
    "\n",
    "def getMax(arr) :\n",
    "    maxEle = arr[0]\n",
    "    for element in arr :\n",
    "        if (maxEle < element) :\n",
    "            maxEle = element\n",
    "        return maxEle\n",
    "    \n",
    "def z_test(x, avg, var, arr) :\n",
    "    ele = len(arr)\n",
    "    return ((x - avg)/ math.sqrt(var)) * math.sqrt(ele)\n",
    "\n",
    "def drawBoxPlot(arr) :\n",
    "    arr_ = []\n",
    "    for i in arr:\n",
    "        arr_.append(float(i))\n",
    "    a = plt.boxplot(arr_)\n",
    "    \n"
   ]
  },
  {
   "cell_type": "code",
   "execution_count": 122,
   "metadata": {
    "collapsed": false
   },
   "outputs": [
    {
     "name": "stdout",
     "output_type": "stream",
     "text": [
      "avg is 49.03220000000001\n",
      "var is 202.28522975510197\n",
      "z_test is 0.48115891113080766\n"
     ]
    },
    {
     "data": {
      "image/png": "[encoded data removed]",
      "text/plain": [
       "<matplotlib.figure.Figure at 0x2aacfb9fc50>"
      ]
     },
     "metadata": {},
     "output_type": "display_data"
    }
   ],
   "source": [
    "import csv\n",
    "f = open(\"./douglas_data_50.csv\", \"r\")\n",
    "csvReader = csv.reader(f)\n",
    "arr_douglas_data_50 = []\n",
    "elementNum = 0\n",
    "for row in csvReader :\n",
    "    elementNum = elementNum + 1\n",
    "    if (elementNum < 3):\n",
    "        continue\n",
    "    arr_douglas_data_50.append(row[8])\n",
    "\n",
    "avg_douglas_data_50 = getAvg(arr_douglas_data_50)\n",
    "var_douglas_data_50 = getVar(arr_douglas_data_50, avg_douglas_data_50)\n",
    "z_test_douglas_data_50 = z_test(50, avg_douglas_data_50, var_douglas_data_50, arr_douglas_data_50)\n",
    "print(\"avg is \" + str(avg_douglas_data_50))\n",
    "print(\"var is \" + str(var_douglas_data_50))    \n",
    "print(\"z_test is \" + str(z_test_douglas_data_50))\n",
    "\n",
    "a  = drawBoxPlot(arr_douglas_data_50)\n",
    "\n",
    "f.close()"
   ]
  },
  {
   "cell_type": "code",
   "execution_count": 123,
   "metadata": {
    "collapsed": false
   },
   "outputs": [
    {
     "name": "stdout",
     "output_type": "stream",
     "text": [
      "Average bending is 49.3275\n",
      "Variance is 300.6175776315789\n"
     ]
    },
    {
     "ename": "NameError",
     "evalue": "name 'arr_douglas_data_20' is not defined",
     "output_type": "error",
     "traceback": [
      "\u001b[0;31m---------------------------------------------------------------------------\u001b[0m",
      "\u001b[0;31mNameError\u001b[0m                                 Traceback (most recent call last)",
      "\u001b[0;32m<ipython-input-123-8e38d63bb673>\u001b[0m in \u001b[0;36m<module>\u001b[0;34m()\u001b[0m\n\u001b[1;32m     27\u001b[0m \u001b[0mprint\u001b[0m\u001b[1;33m(\u001b[0m\u001b[1;34m\"Average bending is \"\u001b[0m \u001b[1;33m+\u001b[0m \u001b[0mstr\u001b[0m\u001b[1;33m(\u001b[0m\u001b[0mavgBending\u001b[0m\u001b[1;33m)\u001b[0m\u001b[1;33m)\u001b[0m\u001b[1;33m\u001b[0m\u001b[0m\n\u001b[1;32m     28\u001b[0m \u001b[0mprint\u001b[0m\u001b[1;33m(\u001b[0m\u001b[1;34m\"Variance is \"\u001b[0m \u001b[1;33m+\u001b[0m \u001b[0mstr\u001b[0m\u001b[1;33m(\u001b[0m\u001b[0mvariance\u001b[0m\u001b[1;33m)\u001b[0m\u001b[1;33m)\u001b[0m\u001b[1;33m\u001b[0m\u001b[0m\n\u001b[0;32m---> 29\u001b[0;31m \u001b[0ma\u001b[0m  \u001b[1;33m=\u001b[0m \u001b[0mdrawBoxPlot\u001b[0m\u001b[1;33m(\u001b[0m\u001b[0marr_douglas_data_20\u001b[0m\u001b[1;33m)\u001b[0m\u001b[1;33m\u001b[0m\u001b[0m\n\u001b[0m\u001b[1;32m     30\u001b[0m \u001b[1;33m\u001b[0m\u001b[0m\n\u001b[1;32m     31\u001b[0m \u001b[0mf\u001b[0m\u001b[1;33m.\u001b[0m\u001b[0mclose\u001b[0m\u001b[1;33m(\u001b[0m\u001b[1;33m)\u001b[0m\u001b[1;33m\u001b[0m\u001b[0m\n",
      "\u001b[0;31mNameError\u001b[0m: name 'arr_douglas_data_20' is not defined"
     ]
    }
   ],
   "source": [
    "import csv \n",
    "f = open(\"./douglas_data_20.csv\")\n",
    "csvReader = csv.reader(f)\n",
    "elementNum = 0\n",
    "sumOfBendingValue = 0\n",
    "for row in csvReader :\n",
    "    elementNum = elementNum + 1\n",
    "    if (elementNum < 3) :\n",
    "        continue\n",
    "    sumOfBendingValue = sumOfBendingValue + float(row[8])\n",
    "f.close()\n",
    "avgBending = sumOfBendingValue/20\n",
    "\n",
    "f = open(\"./douglas_data_20.csv\", \"r\")\n",
    "csvReader = csv.reader(f)\n",
    "elementNum = 0\n",
    "variance = 0\n",
    "for row in csvReader :\n",
    "    elementNum = elementNum + 1\n",
    "    if (elementNum < 3) :\n",
    "        continue\n",
    "    variance = variance + ((float(row[8]) - avgBending) * (float(row[8]) - avgBending))\n",
    "#     print(variance)\n",
    "variance = variance / (19)\n",
    " #subtracting the description row\n",
    "\n",
    "print(\"Average bending is \" + str(avgBending))\n",
    "print(\"Variance is \" + str(variance))\n",
    "# a  = drawBoxPlot(arr_douglas_data_20)\n",
    "\n",
    "f.close()"
   ]
  },
  {
   "cell_type": "code",
   "execution_count": 124,
   "metadata": {
    "collapsed": false
   },
   "outputs": [
    {
     "name": "stdout",
     "output_type": "stream",
     "text": [
      "avg is 52.09357142857142\n",
      "var is 274.39415034843205\n",
      "z_test is -0.8190775142801379\n"
     ]
    },
    {
     "data": {
      "image/png": "[encoded data removed]",
      "text/plain": [
       "<matplotlib.figure.Figure at 0x2aaccfd3080>"
      ]
     },
     "metadata": {},
     "output_type": "display_data"
    }
   ],
   "source": [
    "import csv\n",
    "f_eastern = open(\"./douglas_eastern_data_42.csv\")\n",
    "csvReader_eastern = csv.reader(f_eastern)\n",
    "elementNum = 0\n",
    "arr_douglas_eastern_data_42 = []\n",
    "for row in csvReader_eastern :\n",
    "    elementNum = elementNum + 1\n",
    "    if (elementNum < 3):\n",
    "        continue\n",
    "    arr_douglas_eastern_data_42.append(row[8])\n",
    "\n",
    "avg_douglas_eastern_data_42 = getAvg(arr_douglas_eastern_data_42)\n",
    "var_douglas_eastern_data_42 = getVar(arr_douglas_eastern_data_42, avg_douglas_eastern_data_42)\n",
    "z_test_douglas_eastern_data_42 = z_test(50, avg_douglas_eastern_data_42, var_douglas_eastern_data_42, arr_douglas_eastern_data_42)\n",
    "print(\"avg is \" + str(avg_douglas_eastern_data_42))\n",
    "print(\"var is \" + str(var_douglas_eastern_data_42))    \n",
    "print(\"z_test is \" + str(z_test_douglas_eastern_data_42))\n",
    "\n",
    "a  = drawBoxPlot(arr_douglas_eastern_data_42)\n",
    "\n",
    "\n",
    "f_eastern.close()"
   ]
  },
  {
   "cell_type": "code",
   "execution_count": 125,
   "metadata": {
    "collapsed": false
   },
   "outputs": [
    {
     "name": "stdout",
     "output_type": "stream",
     "text": [
      "avg is 43.28166666666666\n",
      "var is 281.4411798850574\n",
      "z_test is -0.6835252914095225\n"
     ]
    },
    {
     "data": {
      "image/png": "[encoded data removed]",
      "text/plain": [
       "<matplotlib.figure.Figure at 0x2aaccfc6978>"
      ]
     },
     "metadata": {},
     "output_type": "display_data"
    }
   ],
   "source": [
    "import csv\n",
    "f_western = open(\"./douglas_western_data_30.csv\")\n",
    "csvReader_western = csv.reader(f_western)\n",
    "arr_douglas_western_data_30 = []\n",
    "elementNum = 0\n",
    "for row in csvReader_western :\n",
    "    elementNum = elementNum + 1\n",
    "    if (elementNum < 3):\n",
    "        continue\n",
    "    arr_douglas_western_data_30.append(row[8])\n",
    "\n",
    "avg_douglas_western_data_30 = getAvg(arr_douglas_western_data_30)\n",
    "var_douglas_western_data_30 = getVar(arr_douglas_western_data_30, avg_douglas_western_data_30)\n",
    "z_test_douglas_western_data_30 = z_test(50, avg_douglas_eastern_data_42, var_douglas_western_data_30, arr_douglas_western_data_30)\n",
    "print(\"avg is \" + str(avg_douglas_western_data_30))\n",
    "print(\"var is \" + str(var_douglas_western_data_30))    \n",
    "print(\"z_test is \" + str(z_test_douglas_western_data_30))\n",
    "\n",
    "a  = drawBoxPlot(arr_douglas_western_data_30)\n",
    "\n",
    "f_western.close()\n"
   ]
  },
  {
   "cell_type": "code",
   "execution_count": 78,
   "metadata": {
    "collapsed": false
   },
   "outputs": [],
   "source": [
    "\n"
   ]
  },
  {
   "cell_type": "code",
   "execution_count": null,
   "metadata": {
    "collapsed": true
   },
   "outputs": [],
   "source": []
  }
 ],
 "metadata": {
  "kernelspec": {
   "display_name": "Python 3",
   "language": "python",
   "name": "python3"
  },
  "language_info": {
   "codemirror_mode": {
    "name": "ipython",
    "version": 3
   },
   "file_extension": ".py",
   "mimetype": "text/x-python",
   "name": "python",
   "nbconvert_exporter": "python",
   "pygments_lexer": "ipython3",
   "version": "3.6.0"
  }
 },
 "nbformat": 4,
 "nbformat_minor": 2
}
